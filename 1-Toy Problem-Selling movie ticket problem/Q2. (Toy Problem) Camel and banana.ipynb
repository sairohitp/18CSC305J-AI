{
 "cells": [
  {
   "cell_type": "code",
   "execution_count": 1,
   "metadata": {},
   "outputs": [
    {
     "name": "stdout",
     "output_type": "stream",
     "text": [
      "533.0\n"
     ]
    }
   ],
   "source": [
    "a=3000                     #total bananas\n",
    "l=1000\n",
    "s=0\n",
    "while(a>l):\n",
    "    n=(a/l)*2-1            #no. of trips\n",
    "    x=l//n                 #distance of check post trips\n",
    "    s=s+x                  #storing no of bananas consumed\n",
    "    a=a-l                  #next load of banana\n",
    "kmleft=a-s\n",
    "bananasneeded=kmleft\n",
    "bananasleft=a-bananasneeded\n",
    "print(bananasleft)"
   ]
  },
  {
   "cell_type": "code",
   "execution_count": null,
   "metadata": {},
   "outputs": [],
   "source": []
  }
 ],
 "metadata": {
  "kernelspec": {
   "display_name": "Python 3",
   "language": "python",
   "name": "python3"
  },
  "language_info": {
   "codemirror_mode": {
    "name": "ipython",
    "version": 3
   },
   "file_extension": ".py",
   "mimetype": "text/x-python",
   "name": "python",
   "nbconvert_exporter": "python",
   "pygments_lexer": "ipython3",
   "version": "3.7.6"
  }
 },
 "nbformat": 4,
 "nbformat_minor": 4
}
