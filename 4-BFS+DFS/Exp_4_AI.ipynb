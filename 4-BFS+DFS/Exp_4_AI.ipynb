{
  "nbformat": 4,
  "nbformat_minor": 5,
  "metadata": {
    "kernelspec": {
      "name": "python395jvsc74a57bd0ac59ebe37160ed0dfa835113d9b8498d9f09ceb179beaac4002f036b9467c963",
      "display_name": "Python 3.9.5 64-bit"
    },
    "language_info": {
      "codemirror_mode": {
        "name": "ipython",
        "version": 3
      },
      "file_extension": ".py",
      "mimetype": "text/x-python",
      "name": "python",
      "nbconvert_exporter": "python",
      "pygments_lexer": "ipython3",
      "version": "3.9.5"
    },
    "colab": {
      "name": "RA1811028010028 - Exp 4 - AI.ipynb",
      "provenance": [],
      "collapsed_sections": []
    },
    "metadata": {
      "interpreter": {
        "hash": "ac59ebe37160ed0dfa835113d9b8498d9f09ceb179beaac4002f036b9467c963"
      }
    }
  },
  "cells": [
    {
      "cell_type": "markdown",
      "metadata": {
        "id": "lXs95t67Dzkh"
      },
      "source": [
        "# Mihir Singh\n",
        "## RA1811028010028"
      ],
      "id": "lXs95t67Dzkh"
    },
    {
      "cell_type": "markdown",
      "metadata": {
        "id": "ws5O2Of0Dzkr"
      },
      "source": [
        "# Experiment No. 4a - Implementation of Breadth First Search"
      ],
      "id": "ws5O2Of0Dzkr"
    },
    {
      "cell_type": "markdown",
      "metadata": {
        "id": "FXz1jBsKDzks"
      },
      "source": [
        "## Aim"
      ],
      "id": "FXz1jBsKDzks"
    },
    {
      "cell_type": "markdown",
      "metadata": {
        "id": "EOj5Y4B0Dzks"
      },
      "source": [
        "To implement BFS in Python."
      ],
      "id": "EOj5Y4B0Dzks"
    },
    {
      "cell_type": "markdown",
      "metadata": {
        "id": "61Nso-opDzks"
      },
      "source": [
        "## ALGORITHM"
      ],
      "id": "61Nso-opDzks"
    },
    {
      "cell_type": "markdown",
      "metadata": {
        "id": "LkEEwUSdDzks"
      },
      "source": [
        "Algorithm:\n",
        "<ol>\n",
        "   <li>Create a queue</li>\n",
        "   <li>Mark each new node as visited and put that node into the queue</li>\n",
        "   <li>While Queue is non-empty:</li>\n",
        "   <li>Remove the head of Queue </li>\n",
        "   <li>Mark and enqueue all (unvisited) neighbors </li>\n",
        "</ol>"
      ],
      "id": "LkEEwUSdDzks"
    },
    {
      "cell_type": "markdown",
      "metadata": {
        "id": "SVhCGXBHDzks"
      },
      "source": [
        "## Code - 4(A)"
      ],
      "id": "SVhCGXBHDzks"
    },
    {
      "cell_type": "code",
      "metadata": {
        "id": "Tg5JVEATDzkt",
        "colab": {
          "base_uri": "https://localhost:8080/"
        },
        "outputId": "78a787f9-c065-4a44-c4d7-3bf299865569"
      },
      "source": [
        "graph = {\n",
        "  'A' : ['B','C'],\n",
        "  'B' : ['D'],\n",
        "  'C' : ['F'],\n",
        "  'D' : ['E', 'F'],\n",
        "  'E' : [],\n",
        "  'F' : ['A']\n",
        "}\n",
        " \n",
        "visited = [] # Keep track of visited nodes.\n",
        "queue = []   # Queue\n",
        " \n",
        "def bfs(visited, graph, node):\n",
        "    visited.append(node)\n",
        "    queue.append(node)\n",
        "    while queue:\n",
        "        s = queue.pop(0) \n",
        "        print (s, end = \" \") \n",
        "        for neighbour in graph[s]:\n",
        "              if neighbour not in visited:\n",
        "                    visited.append(neighbour)\n",
        "                    queue.append(neighbour)\n",
        " \n",
        "# Driver Code\n",
        "bfs(visited, graph, 'A')"
      ],
      "id": "Tg5JVEATDzkt",
      "execution_count": 1,
      "outputs": [
        {
          "output_type": "stream",
          "name": "stdout",
          "text": [
            "A B C D F E "
          ]
        }
      ]
    },
    {
      "cell_type": "markdown",
      "metadata": {
        "id": "9NBBiuaHDzku"
      },
      "source": [
        "## Results"
      ],
      "id": "9NBBiuaHDzku"
    },
    {
      "cell_type": "markdown",
      "metadata": {
        "id": "bcxEJwlyDzku"
      },
      "source": [
        "Breadth First Search was successfully implemented in Python."
      ],
      "id": "bcxEJwlyDzku"
    },
    {
      "cell_type": "markdown",
      "metadata": {
        "id": "jgMHe1wHDzku"
      },
      "source": [
        "# Experiment No. 4b - Implementation of Depth First Search"
      ],
      "id": "jgMHe1wHDzku"
    },
    {
      "cell_type": "markdown",
      "metadata": {
        "id": "-0oNP9ZjDzku"
      },
      "source": [
        "## Aim"
      ],
      "id": "-0oNP9ZjDzku"
    },
    {
      "cell_type": "markdown",
      "metadata": {
        "id": "LGPeD4juDzkv"
      },
      "source": [
        "To implement DFS in Python."
      ],
      "id": "LGPeD4juDzkv"
    },
    {
      "cell_type": "markdown",
      "metadata": {
        "id": "WAwL4_aYDzkv"
      },
      "source": [
        "## ALGORITHM"
      ],
      "id": "WAwL4_aYDzkv"
    },
    {
      "cell_type": "markdown",
      "metadata": {
        "id": "C_yE58xtDzkv"
      },
      "source": [
        "The DFS algorithm works as follows:\n",
        "<ol>\n",
        "    <li>Start by putting any one of the graph's vertices on top of a stack.\n",
        "<li>Take the top item of the stack and add it to the visited list.\n",
        "   <li> Create a list of that vertex's adjacent nodes.\n",
        "    <li>Add the ones which aren't in the visited list to the top of the stack.\n",
        "<li>Keep repeating steps 2 and 3 until the stack is empty.\n",
        "</ol>"
      ],
      "id": "C_yE58xtDzkv"
    },
    {
      "cell_type": "markdown",
      "metadata": {
        "id": "_NyaCKQdDzkv"
      },
      "source": [
        "## Code - 4(B)"
      ],
      "id": "_NyaCKQdDzkv"
    },
    {
      "cell_type": "code",
      "metadata": {
        "id": "qTEMDnqVDzkv",
        "colab": {
          "base_uri": "https://localhost:8080/"
        },
        "outputId": "ffa7f747-b2a5-42a7-b6c0-a9a403ae358a"
      },
      "source": [
        "graph = {\n",
        "  'A' : ['B','C'],\n",
        "  'B' : ['D'],\n",
        "  'C' : ['F'],\n",
        "  'D' : ['E', 'F'],\n",
        "  'E' : [],\n",
        "  'F' : ['A']\n",
        "} \n",
        "visited = set() # Keep track of visited nodes.\n",
        " \n",
        "def dfs(visited, graph, node):\n",
        "    if node not in visited:\n",
        "        print (node)\n",
        "        visited.add(node)\n",
        "        for neighbour in graph[node]:\n",
        "            dfs(visited, graph, neighbour)\n",
        " \n",
        "dfs(visited, graph, 'A')"
      ],
      "id": "qTEMDnqVDzkv",
      "execution_count": 2,
      "outputs": [
        {
          "output_type": "stream",
          "name": "stdout",
          "text": [
            "A\nB\nD\nE\nF\nC\n"
          ]
        }
      ]
    },
    {
      "cell_type": "markdown",
      "metadata": {
        "id": "QCTEFp77Dzkw"
      },
      "source": [
        "## Results"
      ],
      "id": "QCTEFp77Dzkw"
    },
    {
      "cell_type": "markdown",
      "metadata": {
        "id": "HZDe0-95Dzkw"
      },
      "source": [
        "Breadth First Search was successfully implemented in Python."
      ],
      "id": "HZDe0-95Dzkw"
    }
  ]
}