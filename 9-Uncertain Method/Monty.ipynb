{
 "cells": [
  {
   "cell_type": "markdown",
   "id": "several-jewelry",
   "metadata": {},
   "source": [
    "# Bayesian Network for the Monty Hall problem.\n",
    "\n",
    "### The Directed Acyclic Graph is composed by 3 nodes: Guestdoor, Pricedoor, Montydoor. \n",
    " \n",
    "### Once the guest chose a door, Monty opens a door (Montydoor) which does not contain the prize (Prizedoor) nor is the door chosen by the guest (Guestdoor)."
   ]
  },
  {
   "cell_type": "code",
   "execution_count": 2,
   "id": "digital-reconstruction",
   "metadata": {},
   "outputs": [],
   "source": [
    "import numpy as np\n",
    "from pomegranate import *"
   ]
  },
  {
   "cell_type": "markdown",
   "id": "continuous-silicon",
   "metadata": {},
   "source": [
    "### Both Guestdoor and Prizedoor are random:"
   ]
  },
  {
   "cell_type": "code",
   "execution_count": 4,
   "id": "velvet-bouquet",
   "metadata": {},
   "outputs": [],
   "source": [
    "guest =DiscreteDistribution({ 'A': 1/3, 'B': 1/3, 'C': 1/3 })\n",
    "prize =DiscreteDistribution({ 'A': 1/3, 'B': 1/3, 'C': 1/3 })"
   ]
  },
  {
   "cell_type": "markdown",
   "id": "written-difference",
   "metadata": {},
   "source": [
    "#### We can manually build the simple CPT for all the possible combination:\n",
    "#### Let us consider just the first 9 brackets in which the guest chose door A:\n",
    "#### In the first 3 brackets, the prize also is behind door A (second element of each bracket), therefore Monty has 50%\n",
    "#### probability to reveal B or C (and 0% to reveal A because it's forbidden).\n",
    "#### If the prize is behind door B (brackets from 4 to 6), Monty can oly reveal door C (100%, sixth bracket) because\n",
    "#### he cannot reval the door chosen by the guest nor the door with the prize, etc..."
   ]
  },
  {
   "cell_type": "code",
   "execution_count": 5,
   "id": "handmade-durham",
   "metadata": {},
   "outputs": [],
   "source": [
    "monty = ConditionalProbabilityTable(\n",
    "        [['A', 'A', 'A', 0.0],\n",
    "         ['A', 'A', 'B', 0.5],\n",
    "         ['A', 'A', 'C', 0.5],\n",
    "         ['A', 'B', 'A', 0.0],\n",
    "         ['A', 'B', 'B', 0.0],\n",
    "         ['A', 'B', 'C', 1.0],\n",
    "         ['A', 'C', 'A', 0.0],\n",
    "         ['A', 'C', 'B', 1.0],\n",
    "         ['A', 'C', 'C', 0.0],\n",
    "         ['B', 'A', 'A', 0.0],\n",
    "         ['B', 'A', 'B', 0.0],\n",
    "         ['B', 'A', 'C', 1.0],\n",
    "         ['B', 'B', 'A', 0.5],\n",
    "         ['B', 'B', 'B', 0.0],\n",
    "         ['B', 'B', 'C', 0.5],\n",
    "         ['B', 'C', 'A', 1.0],\n",
    "         ['B', 'C', 'B', 0.0],\n",
    "         ['B', 'C', 'C', 0.0],\n",
    "         ['C', 'A', 'A', 0.0],\n",
    "         ['C', 'A', 'B', 1.0],\n",
    "         ['C', 'A', 'C', 0.0],\n",
    "         ['C', 'B', 'A', 1.0],\n",
    "         ['C', 'B', 'B', 0.0],\n",
    "         ['C', 'B', 'C', 0.0],\n",
    "         ['C', 'C', 'A', 0.5],\n",
    "         ['C', 'C', 'B', 0.5],\n",
    "         ['C', 'C', 'C', 0.0]], [guest, prize])"
   ]
  },
  {
   "cell_type": "code",
   "execution_count": 6,
   "id": "abandoned-canada",
   "metadata": {},
   "outputs": [],
   "source": [
    "# Instanciating the nodes \n",
    "s1 = Node(guest, name=\"guest\")\n",
    "s2 = Node(prize, name=\"prize\")\n",
    "s3 = Node(monty, name=\"monty\")"
   ]
  },
  {
   "cell_type": "code",
   "execution_count": 7,
   "id": "dynamic-bunny",
   "metadata": {},
   "outputs": [],
   "source": [
    "# Building the model\n",
    "model = BayesianNetwork(\"Monty Hall\")\n",
    "model.add_states(s1, s2, s3)\n",
    "model.add_edge(s1, s3)\n",
    "model.add_edge(s2, s3)\n",
    "model.bake()"
   ]
  },
  {
   "cell_type": "code",
   "execution_count": 8,
   "id": "expressed-domestic",
   "metadata": {},
   "outputs": [
    {
     "output_type": "stream",
     "name": "stdout",
     "text": [
      "guest\nA\n\nprize\n[{'A': 0.3333333333333333, 'B': 0.3333333333333333, 'C': 0.3333333333333333}]\n\nmonty\n[{'A': 0.0, 'C': 0.49999999999999983, 'B': 0.49999999999999983}]\n\n"
     ]
    }
   ],
   "source": [
    "# Let's say the guest choose door A. We can predict all the probabilites given this\n",
    "beliefs = model.predict_proba({ 'guest' : 'A' })\n",
    "for i,b in enumerate(beliefs):\n",
    "    print(model.states[i].name)\n",
    "    print(b.parameters) if hasattr(b, 'parameters') else print(b)\n",
    "    print(\"\")\n",
    "# The prize has 33% chance to be behind any of the 3 doors and Monty has to choose between door B and C     "
   ]
  },
  {
   "cell_type": "code",
   "execution_count": 9,
   "id": "greek-requirement",
   "metadata": {},
   "outputs": [
    {
     "output_type": "stream",
     "name": "stdout",
     "text": [
      "guest\nA\n\nprize\n[{'A': 0.3333333333333334, 'B': 0.0, 'C': 0.6666666666666664}]\n\nmonty\nB\n\n"
     ]
    }
   ],
   "source": [
    "# Monty always know where the prize is and he always reveal a door without the prize asking to the guest if he wants to change his initial choice. \n",
    "beliefs = model.predict_proba({ 'guest' : 'A', 'monty' : 'B' })\n",
    "for i,b in enumerate(beliefs):\n",
    "    print(model.states[i].name)\n",
    "    print(b.parameters) if hasattr(b, 'parameters') else print(b)\n",
    "    print(\"\")"
   ]
  },
  {
   "cell_type": "code",
   "execution_count": 10,
   "id": "close-growing",
   "metadata": {},
   "outputs": [],
   "source": [
    "# We get the well known solution to the game: There's 2/3 chance to get the car by switching door while there's 1/3 chance if we keep the initial choice"
   ]
  },
  {
   "cell_type": "code",
   "execution_count": null,
   "id": "afraid-basin",
   "metadata": {},
   "outputs": [],
   "source": []
  }
 ],
 "metadata": {
  "kernelspec": {
   "name": "python395jvsc74a57bd0ac59ebe37160ed0dfa835113d9b8498d9f09ceb179beaac4002f036b9467c963",
   "display_name": "Python 3.9.5 64-bit"
  },
  "language_info": {
   "codemirror_mode": {
    "name": "ipython",
    "version": 3
   },
   "file_extension": ".py",
   "mimetype": "text/x-python",
   "name": "python",
   "nbconvert_exporter": "python",
   "pygments_lexer": "ipython3",
   "version": "3.9.5"
  },
  "metadata": {
   "interpreter": {
    "hash": "ac59ebe37160ed0dfa835113d9b8498d9f09ceb179beaac4002f036b9467c963"
   }
  }
 },
 "nbformat": 4,
 "nbformat_minor": 5
}